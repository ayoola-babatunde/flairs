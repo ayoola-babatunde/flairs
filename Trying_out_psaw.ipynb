{
  "nbformat": 4,
  "nbformat_minor": 0,
  "metadata": {
    "colab": {
      "name": "Trying out psaw",
      "provenance": [],
      "authorship_tag": "ABX9TyMzEyAeSpIIzSPJqALs2kKu",
      "include_colab_link": true
    },
    "kernelspec": {
      "name": "python3",
      "display_name": "Python 3"
    }
  },
  "cells": [
    {
      "cell_type": "markdown",
      "metadata": {
        "id": "view-in-github",
        "colab_type": "text"
      },
      "source": [
        "<a href=\"https://colab.research.google.com/github/ayoola-babatunde/flairs/blob/master/Trying_out_psaw.ipynb\" target=\"_parent\"><img src=\"https://colab.research.google.com/assets/colab-badge.svg\" alt=\"Open In Colab\"/></a>"
      ]
    },
    {
      "cell_type": "code",
      "metadata": {
        "id": "G2O1EY2IPgcc",
        "colab_type": "code",
        "colab": {}
      },
      "source": [
        "pip install psaw -q"
      ],
      "execution_count": 0,
      "outputs": []
    },
    {
      "cell_type": "code",
      "metadata": {
        "id": "au6Kwp_PPlrm",
        "colab_type": "code",
        "colab": {}
      },
      "source": [
        "from psaw import PushshiftAPI\n",
        "from functools import reduce\n",
        "import pandas as pd\n",
        "api = PushshiftAPI()\n"
      ],
      "execution_count": 0,
      "outputs": []
    },
    {
      "cell_type": "code",
      "metadata": {
        "id": "AzNFIN12KaGL",
        "colab_type": "code",
        "colab": {}
      },
      "source": [
        "def agg_flairs(before, after): \n",
        "    output = next(api.search_comments(before = before, after = after, aggs='author_flair_text', size = 0, subreddit = 'soccer'))\n",
        "    extract = [list(x.values())[::-1] for x in output['author_flair_text']]\n",
        "    return pd.DataFrame(extract).rename(columns = {0: 'club', 1: 'comments'})"
      ],
      "execution_count": 0,
      "outputs": []
    },
    {
      "cell_type": "code",
      "metadata": {
        "id": "KTsvJjPRUAXg",
        "colab_type": "code",
        "colab": {}
      },
      "source": [
        "aggs_dict = {} #empty dictionary to store dataframes\n",
        "\n",
        "days_to_calculate = 300 #calculate data for the past x days\n",
        "\n",
        "day_width = 30 #how many days in a block\n",
        "\n",
        "\n",
        "\n",
        "while days_to_calculate > 0: \n",
        "    new_agg = agg_flairs(str(days_to_calculate - 30) + 'd', str(days_to_calculate) + 'd')\n",
        "\n",
        "    days_to_calculate -= day_width\n",
        "\n",
        "    aggs_dict['day{0}'.format(days_to_calculate)] = new_agg\n",
        "\n",
        "    \n"
      ],
      "execution_count": 0,
      "outputs": []
    },
    {
      "cell_type": "code",
      "metadata": {
        "id": "AkCbvaV9ZU2a",
        "colab_type": "code",
        "colab": {
          "base_uri": "https://localhost:8080/",
          "height": 1000
        },
        "outputId": "ce73a1fe-9295-47ef-c995-c8ebc076b655"
      },
      "source": [
        "aggs_list = list((aggs_dict).values())"
      ],
      "execution_count": 109,
      "outputs": [
        {
          "output_type": "execute_result",
          "data": {
            "text/plain": [
              "[                   club  comments\n",
              " 0           :Liverpool:     54792\n",
              " 1   :Manchester_United:     41971\n",
              " 2             :Arsenal:     32335\n",
              " 3        :FC_Barcelona:     30514\n",
              " 4             :Chelsea:     24749\n",
              " ..                  ...       ...\n",
              " 95         :Hertha_BSC:       591\n",
              " 96  :Macclesfield_Town:       590\n",
              " 97              :Chile:       589\n",
              " 98       :Club_Tijuana:       589\n",
              " 99           :Pakistan:       588\n",
              " \n",
              " [100 rows x 2 columns],                    club  comments\n",
              " 0           :Liverpool:     97138\n",
              " 1   :Manchester_United:     53272\n",
              " 2             :Arsenal:     40868\n",
              " 3        :FC_Barcelona:     38299\n",
              " 4             :Chelsea:     36169\n",
              " ..                  ...       ...\n",
              " 95           :Valencia:       843\n",
              " 96            Barcelona       841\n",
              " 97           :Besiktas:       838\n",
              " 98    :Athletic_Bilbao:       827\n",
              " 99          :1_FC_Koln:       797\n",
              " \n",
              " [100 rows x 2 columns],                    club  comments\n",
              " 0           :Liverpool:     66072\n",
              " 1   :Manchester_United:     44531\n",
              " 2             :Arsenal:     30681\n",
              " 3         :Real_Madrid:     30193\n",
              " 4             :Chelsea:     29855\n",
              " ..                  ...       ...\n",
              " 95              :Pumas:       674\n",
              " 96      :New_York_City:       670\n",
              " 97      :Stoke_City_FC:       670\n",
              " 98            :Croatia:       660\n",
              " 99            :Denmark:       658\n",
              " \n",
              " [100 rows x 2 columns],                    club  comments\n",
              " 0           :Liverpool:     53865\n",
              " 1   :Manchester_United:     42337\n",
              " 2             :Arsenal:     33216\n",
              " 3        :FC_Barcelona:     31686\n",
              " 4         :Real_Madrid:     24403\n",
              " ..                  ...       ...\n",
              " 95       :Derby_County:       889\n",
              " 96      :Werder_Bremen:       886\n",
              " 97       :Ipswich_Town:       874\n",
              " 98            :Jamaica:       868\n",
              " 99      :Columbus_Crew:       866\n",
              " \n",
              " [100 rows x 2 columns],                    club  comments\n",
              " 0   :Manchester_United:     57807\n",
              " 1           :Liverpool:     55197\n",
              " 2             :Arsenal:     48283\n",
              " 3         :Real_Madrid:     30822\n",
              " 4   :Tottenham_Hotspur:     29204\n",
              " ..                  ...       ...\n",
              " 95      :Stoke_City_FC:       673\n",
              " 96             :Fulham:       670\n",
              " 97            :Nigeria:       662\n",
              " 98               :Chad:       645\n",
              " 99        :South_Korea:       645\n",
              " \n",
              " [100 rows x 2 columns],                       club  comments\n",
              " 0              :Liverpool:     50197\n",
              " 1      :Manchester_United:     38380\n",
              " 2                :Arsenal:     33704\n",
              " 3           :FC_Barcelona:     22556\n",
              " 4                :Chelsea:     22299\n",
              " ..                     ...       ...\n",
              " 95            :Real_Betis:       713\n",
              " 96  :West_Bromwich_Albion:       713\n",
              " 97     :Red_Star_Belgrade:       678\n",
              " 98              :Colombia:       652\n",
              " 99              :Hereford:       633\n",
              " \n",
              " [100 rows x 2 columns],                    club  comments\n",
              " 0           :Liverpool:     57757\n",
              " 1             :Arsenal:     35991\n",
              " 2   :Manchester_United:     35697\n",
              " 3        :FC_Barcelona:     23163\n",
              " 4             :Chelsea:     22942\n",
              " ..                  ...       ...\n",
              " 95        :KV_Mechelen:       607\n",
              " 96             :Sweden:       605\n",
              " 97              :Wales:       604\n",
              " 98             :Mexico:       602\n",
              " 99              Chelsea       601\n",
              " \n",
              " [100 rows x 2 columns],                    club  comments\n",
              " 0           :Liverpool:     67350\n",
              " 1             :Arsenal:     36256\n",
              " 2   :Manchester_United:     35971\n",
              " 3             :Chelsea:     29388\n",
              " 4   :Tottenham_Hotspur:     20706\n",
              " ..                  ...       ...\n",
              " 95    :Cardiff_City_FC:       579\n",
              " 96        :Club_Brugge:       573\n",
              " 97         :English_FA:       571\n",
              " 98        :KV_Mechelen:       569\n",
              " 99      :New_York_City:       568\n",
              " \n",
              " [100 rows x 2 columns],                       club  comments\n",
              " 0              :Liverpool:     62117\n",
              " 1      :Manchester_United:     42094\n",
              " 2                :Arsenal:     29316\n",
              " 3      :Tottenham_Hotspur:     25196\n",
              " 4                :Chelsea:     24194\n",
              " ..                     ...       ...\n",
              " 95             :1_FC_Koln:       628\n",
              " 96  :Guangzhou_Evergrande:       616\n",
              " 97      :SV_Werder_Bremen:       604\n",
              " 98               :Uruguay:       590\n",
              " 99            :English_FA:       586\n",
              " \n",
              " [100 rows x 2 columns],                    club  comments\n",
              " 0           :Liverpool:     75739\n",
              " 1   :Manchester_United:     39874\n",
              " 2             :Arsenal:     32713\n",
              " 3   :Tottenham_Hotspur:     22873\n",
              " 4             :Chelsea:     22643\n",
              " ..                  ...       ...\n",
              " 95           :Besiktas:       577\n",
              " 96           :Paris_FC:       555\n",
              " 97            :Belgium:       549\n",
              " 98      :Stoke_City_FC:       545\n",
              " 99        :KV_Mechelen:       544\n",
              " \n",
              " [100 rows x 2 columns]]"
            ]
          },
          "metadata": {
            "tags": []
          },
          "execution_count": 109
        }
      ]
    },
    {
      "cell_type": "code",
      "metadata": {
        "id": "71IH8A6cA1vO",
        "colab_type": "code",
        "colab": {
          "base_uri": "https://localhost:8080/",
          "height": 306
        },
        "outputId": "f78ac8dd-df7f-45b1-bf15-6624afe00ff2"
      },
      "source": [
        "aggs_df = reduce(lambda left, right: pd.merge(left, right, on = 'club', how = 'outer'), aggs_list)\n",
        "for x in list((aggs_df['club'])): \n",
        "    if x[0] != ':': \n",
        "        print(x)"
      ],
      "execution_count": 135,
      "outputs": [
        {
          "output_type": "stream",
          "text": [
            "Bayern München\n",
            "United States\n",
            "Liverpool\n",
            "Manchester United\n",
            "Barcelona\n",
            "The Netherlands\n",
            "Arsenal\n",
            "Poland\n",
            "Chelsea\n",
            "Atlético Madrid\n",
            "Tuvalu\n",
            "Real Madrid\n",
            "Peru\n",
            "São Paulo\n",
            "Mexico\n",
            "Brazil\n",
            "Tottenham Hotspur\n"
          ],
          "name": "stdout"
        }
      ]
    },
    {
      "cell_type": "code",
      "metadata": {
        "id": "O_YeThJuC7n3",
        "colab_type": "code",
        "colab": {
          "base_uri": "https://localhost:8080/",
          "height": 698
        },
        "outputId": "f72faf72-109f-4c44-e1c5-6ae654f7d30c"
      },
      "source": [
        "(aggs_df[aggs_df['club'][0] == ':'])"
      ],
      "execution_count": 123,
      "outputs": [
        {
          "output_type": "error",
          "ename": "KeyError",
          "evalue": "ignored",
          "traceback": [
            "\u001b[0;31m---------------------------------------------------------------------------\u001b[0m",
            "\u001b[0;31mKeyError\u001b[0m                                  Traceback (most recent call last)",
            "\u001b[0;32m/usr/local/lib/python3.6/dist-packages/pandas/core/indexes/base.py\u001b[0m in \u001b[0;36mget_loc\u001b[0;34m(self, key, method, tolerance)\u001b[0m\n\u001b[1;32m   2896\u001b[0m             \u001b[0;32mtry\u001b[0m\u001b[0;34m:\u001b[0m\u001b[0;34m\u001b[0m\u001b[0;34m\u001b[0m\u001b[0m\n\u001b[0;32m-> 2897\u001b[0;31m                 \u001b[0;32mreturn\u001b[0m \u001b[0mself\u001b[0m\u001b[0;34m.\u001b[0m\u001b[0m_engine\u001b[0m\u001b[0;34m.\u001b[0m\u001b[0mget_loc\u001b[0m\u001b[0;34m(\u001b[0m\u001b[0mkey\u001b[0m\u001b[0;34m)\u001b[0m\u001b[0;34m\u001b[0m\u001b[0;34m\u001b[0m\u001b[0m\n\u001b[0m\u001b[1;32m   2898\u001b[0m             \u001b[0;32mexcept\u001b[0m \u001b[0mKeyError\u001b[0m\u001b[0;34m:\u001b[0m\u001b[0;34m\u001b[0m\u001b[0;34m\u001b[0m\u001b[0m\n",
            "\u001b[0;32mpandas/_libs/index.pyx\u001b[0m in \u001b[0;36mpandas._libs.index.IndexEngine.get_loc\u001b[0;34m()\u001b[0m\n",
            "\u001b[0;32mpandas/_libs/index.pyx\u001b[0m in \u001b[0;36mpandas._libs.index.IndexEngine.get_loc\u001b[0;34m()\u001b[0m\n",
            "\u001b[0;32mpandas/_libs/index.pyx\u001b[0m in \u001b[0;36mpandas._libs.index.IndexEngine._get_loc_duplicates\u001b[0;34m()\u001b[0m\n",
            "\u001b[0;32mpandas/_libs/index.pyx\u001b[0m in \u001b[0;36mpandas._libs.index.IndexEngine._maybe_get_bool_indexer\u001b[0;34m()\u001b[0m\n",
            "\u001b[0;31mKeyError\u001b[0m: False",
            "\nDuring handling of the above exception, another exception occurred:\n",
            "\u001b[0;31mKeyError\u001b[0m                                  Traceback (most recent call last)",
            "\u001b[0;32m<ipython-input-123-b8f60a7ee296>\u001b[0m in \u001b[0;36m<module>\u001b[0;34m()\u001b[0m\n\u001b[0;32m----> 1\u001b[0;31m \u001b[0;34m(\u001b[0m\u001b[0maggs_df\u001b[0m\u001b[0;34m[\u001b[0m\u001b[0maggs_df\u001b[0m\u001b[0;34m[\u001b[0m\u001b[0;34m'club'\u001b[0m\u001b[0;34m]\u001b[0m\u001b[0;34m[\u001b[0m\u001b[0;36m0\u001b[0m\u001b[0;34m]\u001b[0m \u001b[0;34m==\u001b[0m \u001b[0;34m':'\u001b[0m\u001b[0;34m]\u001b[0m\u001b[0;34m)\u001b[0m\u001b[0;34m\u001b[0m\u001b[0;34m\u001b[0m\u001b[0m\n\u001b[0m",
            "\u001b[0;32m/usr/local/lib/python3.6/dist-packages/pandas/core/frame.py\u001b[0m in \u001b[0;36m__getitem__\u001b[0;34m(self, key)\u001b[0m\n\u001b[1;32m   2993\u001b[0m             \u001b[0;32mif\u001b[0m \u001b[0mself\u001b[0m\u001b[0;34m.\u001b[0m\u001b[0mcolumns\u001b[0m\u001b[0;34m.\u001b[0m\u001b[0mnlevels\u001b[0m \u001b[0;34m>\u001b[0m \u001b[0;36m1\u001b[0m\u001b[0;34m:\u001b[0m\u001b[0;34m\u001b[0m\u001b[0;34m\u001b[0m\u001b[0m\n\u001b[1;32m   2994\u001b[0m                 \u001b[0;32mreturn\u001b[0m \u001b[0mself\u001b[0m\u001b[0;34m.\u001b[0m\u001b[0m_getitem_multilevel\u001b[0m\u001b[0;34m(\u001b[0m\u001b[0mkey\u001b[0m\u001b[0;34m)\u001b[0m\u001b[0;34m\u001b[0m\u001b[0;34m\u001b[0m\u001b[0m\n\u001b[0;32m-> 2995\u001b[0;31m             \u001b[0mindexer\u001b[0m \u001b[0;34m=\u001b[0m \u001b[0mself\u001b[0m\u001b[0;34m.\u001b[0m\u001b[0mcolumns\u001b[0m\u001b[0;34m.\u001b[0m\u001b[0mget_loc\u001b[0m\u001b[0;34m(\u001b[0m\u001b[0mkey\u001b[0m\u001b[0;34m)\u001b[0m\u001b[0;34m\u001b[0m\u001b[0;34m\u001b[0m\u001b[0m\n\u001b[0m\u001b[1;32m   2996\u001b[0m             \u001b[0;32mif\u001b[0m \u001b[0mis_integer\u001b[0m\u001b[0;34m(\u001b[0m\u001b[0mindexer\u001b[0m\u001b[0;34m)\u001b[0m\u001b[0;34m:\u001b[0m\u001b[0;34m\u001b[0m\u001b[0;34m\u001b[0m\u001b[0m\n\u001b[1;32m   2997\u001b[0m                 \u001b[0mindexer\u001b[0m \u001b[0;34m=\u001b[0m \u001b[0;34m[\u001b[0m\u001b[0mindexer\u001b[0m\u001b[0;34m]\u001b[0m\u001b[0;34m\u001b[0m\u001b[0;34m\u001b[0m\u001b[0m\n",
            "\u001b[0;32m/usr/local/lib/python3.6/dist-packages/pandas/core/indexes/base.py\u001b[0m in \u001b[0;36mget_loc\u001b[0;34m(self, key, method, tolerance)\u001b[0m\n\u001b[1;32m   2897\u001b[0m                 \u001b[0;32mreturn\u001b[0m \u001b[0mself\u001b[0m\u001b[0;34m.\u001b[0m\u001b[0m_engine\u001b[0m\u001b[0;34m.\u001b[0m\u001b[0mget_loc\u001b[0m\u001b[0;34m(\u001b[0m\u001b[0mkey\u001b[0m\u001b[0;34m)\u001b[0m\u001b[0;34m\u001b[0m\u001b[0;34m\u001b[0m\u001b[0m\n\u001b[1;32m   2898\u001b[0m             \u001b[0;32mexcept\u001b[0m \u001b[0mKeyError\u001b[0m\u001b[0;34m:\u001b[0m\u001b[0;34m\u001b[0m\u001b[0;34m\u001b[0m\u001b[0m\n\u001b[0;32m-> 2899\u001b[0;31m                 \u001b[0;32mreturn\u001b[0m \u001b[0mself\u001b[0m\u001b[0;34m.\u001b[0m\u001b[0m_engine\u001b[0m\u001b[0;34m.\u001b[0m\u001b[0mget_loc\u001b[0m\u001b[0;34m(\u001b[0m\u001b[0mself\u001b[0m\u001b[0;34m.\u001b[0m\u001b[0m_maybe_cast_indexer\u001b[0m\u001b[0;34m(\u001b[0m\u001b[0mkey\u001b[0m\u001b[0;34m)\u001b[0m\u001b[0;34m)\u001b[0m\u001b[0;34m\u001b[0m\u001b[0;34m\u001b[0m\u001b[0m\n\u001b[0m\u001b[1;32m   2900\u001b[0m         \u001b[0mindexer\u001b[0m \u001b[0;34m=\u001b[0m \u001b[0mself\u001b[0m\u001b[0;34m.\u001b[0m\u001b[0mget_indexer\u001b[0m\u001b[0;34m(\u001b[0m\u001b[0;34m[\u001b[0m\u001b[0mkey\u001b[0m\u001b[0;34m]\u001b[0m\u001b[0;34m,\u001b[0m \u001b[0mmethod\u001b[0m\u001b[0;34m=\u001b[0m\u001b[0mmethod\u001b[0m\u001b[0;34m,\u001b[0m \u001b[0mtolerance\u001b[0m\u001b[0;34m=\u001b[0m\u001b[0mtolerance\u001b[0m\u001b[0;34m)\u001b[0m\u001b[0;34m\u001b[0m\u001b[0;34m\u001b[0m\u001b[0m\n\u001b[1;32m   2901\u001b[0m         \u001b[0;32mif\u001b[0m \u001b[0mindexer\u001b[0m\u001b[0;34m.\u001b[0m\u001b[0mndim\u001b[0m \u001b[0;34m>\u001b[0m \u001b[0;36m1\u001b[0m \u001b[0;32mor\u001b[0m \u001b[0mindexer\u001b[0m\u001b[0;34m.\u001b[0m\u001b[0msize\u001b[0m \u001b[0;34m>\u001b[0m \u001b[0;36m1\u001b[0m\u001b[0;34m:\u001b[0m\u001b[0;34m\u001b[0m\u001b[0;34m\u001b[0m\u001b[0m\n",
            "\u001b[0;32mpandas/_libs/index.pyx\u001b[0m in \u001b[0;36mpandas._libs.index.IndexEngine.get_loc\u001b[0;34m()\u001b[0m\n",
            "\u001b[0;32mpandas/_libs/index.pyx\u001b[0m in \u001b[0;36mpandas._libs.index.IndexEngine.get_loc\u001b[0;34m()\u001b[0m\n",
            "\u001b[0;32mpandas/_libs/index.pyx\u001b[0m in \u001b[0;36mpandas._libs.index.IndexEngine._get_loc_duplicates\u001b[0;34m()\u001b[0m\n",
            "\u001b[0;32mpandas/_libs/index.pyx\u001b[0m in \u001b[0;36mpandas._libs.index.IndexEngine._maybe_get_bool_indexer\u001b[0;34m()\u001b[0m\n",
            "\u001b[0;31mKeyError\u001b[0m: False"
          ]
        }
      ]
    },
    {
      "cell_type": "code",
      "metadata": {
        "id": "HcivZnTdC7kG",
        "colab_type": "code",
        "colab": {
          "base_uri": "https://localhost:8080/",
          "height": 34
        },
        "outputId": "f137c529-0fe6-4b15-b235-20e51d936ad1"
      },
      "source": [
        "(aggs_df['club'][0]).startswith(':')"
      ],
      "execution_count": 131,
      "outputs": [
        {
          "output_type": "execute_result",
          "data": {
            "text/plain": [
              "True"
            ]
          },
          "metadata": {
            "tags": []
          },
          "execution_count": 131
        }
      ]
    },
    {
      "cell_type": "code",
      "metadata": {
        "id": "bHJ2DX7jC7eW",
        "colab_type": "code",
        "colab": {}
      },
      "source": [
        ""
      ],
      "execution_count": 0,
      "outputs": []
    },
    {
      "cell_type": "code",
      "metadata": {
        "id": "tyt561A5Lf8_",
        "colab_type": "code",
        "colab": {}
      },
      "source": [
        ""
      ],
      "execution_count": 0,
      "outputs": []
    },
    {
      "cell_type": "code",
      "metadata": {
        "colab_type": "code",
        "id": "MsoNYscvLFfv",
        "colab": {}
      },
      "source": [
        "gen = api.search_comments(before = '300d', after = '330d', aggs='author_flair_text', size = 0, subreddit = 'soccer')\n",
        "output = next(gen)"
      ],
      "execution_count": 0,
      "outputs": []
    },
    {
      "cell_type": "code",
      "metadata": {
        "colab_type": "code",
        "outputId": "46c2d2ac-ea1a-4c4c-a0a6-a48aed74fd1c",
        "id": "n2mL753qLEcp",
        "colab": {
          "base_uri": "https://localhost:8080/",
          "height": 34
        }
      },
      "source": [
        "((output['author_flair_text'][0]).values())"
      ],
      "execution_count": 0,
      "outputs": [
        {
          "output_type": "execute_result",
          "data": {
            "text/plain": [
              "dict_values([62648, ':Manchester_United:'])"
            ]
          },
          "metadata": {
            "tags": []
          },
          "execution_count": 49
        }
      ]
    },
    {
      "cell_type": "code",
      "metadata": {
        "colab_type": "code",
        "id": "avq6Bt0vLDAF",
        "colab": {}
      },
      "source": [
        "extract = [list(x.values())[::-1] for x in output['author_flair_text']]"
      ],
      "execution_count": 0,
      "outputs": []
    },
    {
      "cell_type": "code",
      "metadata": {
        "colab_type": "code",
        "outputId": "2447b53c-a4ea-41bc-f5ff-3733bde82a59",
        "id": "tKt_4SZhLB7y",
        "colab": {
          "base_uri": "https://localhost:8080/",
          "height": 1000
        }
      },
      "source": [
        "(extract)"
      ],
      "execution_count": 0,
      "outputs": [
        {
          "output_type": "execute_result",
          "data": {
            "text/plain": [
              "[[':Manchester_United:', 62648],\n",
              " [':Liverpool:', 56226],\n",
              " [':Arsenal:', 41157],\n",
              " [':FC_Barcelona:', 38145],\n",
              " [':Chelsea:', 29747],\n",
              " [':Real_Madrid:', 26992],\n",
              " [':Tottenham_Hotspur:', 20616],\n",
              " [':Manchester_City:', 16685],\n",
              " [':Juventus:', 12424],\n",
              " [':Ajax:', 10926],\n",
              " [':Borussia_Dortmund:', 9019],\n",
              " [':Bayern_Munich:', 8427],\n",
              " [':AC_Milan:', 7950],\n",
              " [':England:', 7368],\n",
              " ['Bayern München', 5307],\n",
              " [':Benfica:', 5201],\n",
              " [':Everton:', 4842],\n",
              " [':Paris_Saint-Germain:', 4824],\n",
              " [':Newcastle_United:', 4752],\n",
              " [':Internazionale:', 4718],\n",
              " [':Celtic:', 4132],\n",
              " [':FC_Porto:', 3984],\n",
              " [':Olympique_Lyonnais:', 3789],\n",
              " [':France:', 3593],\n",
              " [':Leicester_City_FC:', 3547],\n",
              " [':Leeds_United:', 3301],\n",
              " [':Watford_FC:', 3114],\n",
              " [':West_Ham_United:', 2756],\n",
              " [':Sporting_Clube_de_Portug:', 2731],\n",
              " [':Germany:', 2552],\n",
              " [':Wrexham:', 2548],\n",
              " [':Southampton:', 2423],\n",
              " [':Republic_of_Ireland:', 2419],\n",
              " [':Eintracht_Frankfurt:', 2287],\n",
              " [':AS_Roma:', 2276],\n",
              " [':Atletico_Madrid:', 2214],\n",
              " [':Crystal_Palace_FC:', 2132],\n",
              " ['Manchester United', 2075],\n",
              " [':Liverpool_Futbol_Club:', 1961],\n",
              " [':Portsmouth_FC:', 1921],\n",
              " [':Spain:', 1881],\n",
              " [':Napoli:', 1860],\n",
              " [':Aston_Villa:', 1811],\n",
              " [':Argentina:', 1720],\n",
              " ['United States', 1706],\n",
              " [':FC_Schalke_04:', 1685],\n",
              " [':Portugal:', 1640],\n",
              " [':Marine_A:', 1600],\n",
              " [':Sunderland:', 1569],\n",
              " [':Middlesbrough_FC:', 1567],\n",
              " [':FC_Zeljeznicar:', 1513],\n",
              " [':Wolverhampton_Wanderers_:', 1507],\n",
              " [':PSV_Eindhoven:', 1504],\n",
              " [':Brighton_Hove_Albion:', 1469],\n",
              " [':Werder_Bremen:', 1438],\n",
              " [':Cardiff_City_FC:', 1363],\n",
              " [':VfB_Stuttgart:', 1293],\n",
              " ['Atlético Madrid', 1284],\n",
              " [':Toronto_FC:', 1283],\n",
              " [':USA:', 1270],\n",
              " [':Boca_Juniors:', 1258],\n",
              " [':Mexico:', 1226],\n",
              " ['Arsenal', 1191],\n",
              " [':Sweden:', 1181],\n",
              " ['Liverpool', 1152],\n",
              " [':Belgium:', 1143],\n",
              " [':Rangers:', 1137],\n",
              " [':Fulham:', 1055],\n",
              " [':Brazil:', 1040],\n",
              " [':Galatasaray:', 1025],\n",
              " [':River_Plate:', 1022],\n",
              " [':Stade_Rennais:', 1010],\n",
              " [':Olympique_de_Marseille:', 982],\n",
              " [':Cork_City:', 981],\n",
              " [':DC_United:', 972],\n",
              " [':Croatia:', 971],\n",
              " [':Colombia:', 953],\n",
              " [':Atlanta_United_FC:', 937],\n",
              " [':Australia:', 935],\n",
              " [':Scotland:', 925],\n",
              " ['The Netherlands', 910],\n",
              " ['Barcelona', 896],\n",
              " ['Chelsea', 877],\n",
              " [':Stoke_City_FC:', 871],\n",
              " [':Swansea_City:', 869],\n",
              " ['Poland', 827],\n",
              " ['Real Madrid', 821],\n",
              " [':Hertha_BSC:', 805],\n",
              " [':Besiktas:', 792],\n",
              " [':Feyenoord_Rotterdam:', 782],\n",
              " [':Burnley:', 775],\n",
              " [':Italy:', 744],\n",
              " [':Netherlands:', 736],\n",
              " [':Sporting_de_Gijon:', 727],\n",
              " [':Denmark:', 725],\n",
              " [':Morecambe_FC:', 700],\n",
              " [':West_Bromwich_Albion:', 668],\n",
              " ['São Paulo', 658],\n",
              " [':New_York_City:', 652],\n",
              " [':Queens_Park_Rangers:', 647]]"
            ]
          },
          "metadata": {
            "tags": []
          },
          "execution_count": 87
        }
      ]
    },
    {
      "cell_type": "code",
      "metadata": {
        "id": "Hz-bpvUZadPM",
        "colab_type": "code",
        "colab": {}
      },
      "source": [
        ""
      ],
      "execution_count": 0,
      "outputs": []
    }
  ]
}