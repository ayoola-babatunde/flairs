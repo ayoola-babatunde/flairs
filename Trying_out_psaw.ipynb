{
  "nbformat": 4,
  "nbformat_minor": 0,
  "metadata": {
    "colab": {
      "name": "Trying out psaw",
      "provenance": [],
      "authorship_tag": "ABX9TyOd1WMWBvBnjv/setrruGd9"
    },
    "kernelspec": {
      "name": "python3",
      "display_name": "Python 3"
    }
  },
  "cells": [
    {
      "cell_type": "code",
      "metadata": {
        "id": "G2O1EY2IPgcc",
        "colab_type": "code",
        "colab": {
          "base_uri": "https://localhost:8080/",
          "height": 170
        },
        "outputId": "c6d26b9e-8673-48fa-f01d-14308869122b"
      },
      "source": [
        "pip install psaw"
      ],
      "execution_count": 1,
      "outputs": [
        {
          "output_type": "stream",
          "text": [
            "Collecting psaw\n",
            "  Downloading https://files.pythonhosted.org/packages/60/b7/6724defc12bdcc45470e2b1fc1b978367f3d183ec6c6baa2770a0b083fc7/psaw-0.0.7-py3-none-any.whl\n",
            "Requirement already satisfied: requests in /usr/local/lib/python3.6/dist-packages (from psaw) (2.21.0)\n",
            "Requirement already satisfied: certifi>=2017.4.17 in /usr/local/lib/python3.6/dist-packages (from requests->psaw) (2019.11.28)\n",
            "Requirement already satisfied: urllib3<1.25,>=1.21.1 in /usr/local/lib/python3.6/dist-packages (from requests->psaw) (1.24.3)\n",
            "Requirement already satisfied: chardet<3.1.0,>=3.0.2 in /usr/local/lib/python3.6/dist-packages (from requests->psaw) (3.0.4)\n",
            "Requirement already satisfied: idna<2.9,>=2.5 in /usr/local/lib/python3.6/dist-packages (from requests->psaw) (2.8)\n",
            "Installing collected packages: psaw\n",
            "Successfully installed psaw-0.0.7\n"
          ],
          "name": "stdout"
        }
      ]
    },
    {
      "cell_type": "code",
      "metadata": {
        "id": "au6Kwp_PPlrm",
        "colab_type": "code",
        "colab": {}
      },
      "source": [
        "from psaw import PushshiftAPI\n",
        "\n",
        "api = PushshiftAPI()"
      ],
      "execution_count": 0,
      "outputs": []
    },
    {
      "cell_type": "code",
      "metadata": {
        "id": "5zDN_gnXQWET",
        "colab_type": "code",
        "colab": {}
      },
      "source": [
        "gen = api.search_comments(before = '300d', after = '330d', aggs='author_flair_text', size = 0, subreddit = 'soccer')\n",
        "output = next(gen)"
      ],
      "execution_count": 0,
      "outputs": []
    },
    {
      "cell_type": "code",
      "metadata": {
        "id": "I2VIWru4X82f",
        "colab_type": "code",
        "colab": {
          "base_uri": "https://localhost:8080/",
          "height": 34
        },
        "outputId": "46c2d2ac-ea1a-4c4c-a0a6-a48aed74fd1c"
      },
      "source": [
        "((output['author_flair_text'][0]).values())"
      ],
      "execution_count": 49,
      "outputs": [
        {
          "output_type": "execute_result",
          "data": {
            "text/plain": [
              "dict_values([62648, ':Manchester_United:'])"
            ]
          },
          "metadata": {
            "tags": []
          },
          "execution_count": 49
        }
      ]
    },
    {
      "cell_type": "code",
      "metadata": {
        "id": "dmJ7Wt5BVzZD",
        "colab_type": "code",
        "colab": {}
      },
      "source": [
        "extract = [list(x.values())[::-1] for x in output['author_flair_text']]"
      ],
      "execution_count": 0,
      "outputs": []
    },
    {
      "cell_type": "code",
      "metadata": {
        "id": "7SKBvqsbWyYi",
        "colab_type": "code",
        "colab": {
          "base_uri": "https://localhost:8080/",
          "height": 1000
        },
        "outputId": "2447b53c-a4ea-41bc-f5ff-3733bde82a59"
      },
      "source": [
        "(extract)"
      ],
      "execution_count": 87,
      "outputs": [
        {
          "output_type": "execute_result",
          "data": {
            "text/plain": [
              "[[':Manchester_United:', 62648],\n",
              " [':Liverpool:', 56226],\n",
              " [':Arsenal:', 41157],\n",
              " [':FC_Barcelona:', 38145],\n",
              " [':Chelsea:', 29747],\n",
              " [':Real_Madrid:', 26992],\n",
              " [':Tottenham_Hotspur:', 20616],\n",
              " [':Manchester_City:', 16685],\n",
              " [':Juventus:', 12424],\n",
              " [':Ajax:', 10926],\n",
              " [':Borussia_Dortmund:', 9019],\n",
              " [':Bayern_Munich:', 8427],\n",
              " [':AC_Milan:', 7950],\n",
              " [':England:', 7368],\n",
              " ['Bayern München', 5307],\n",
              " [':Benfica:', 5201],\n",
              " [':Everton:', 4842],\n",
              " [':Paris_Saint-Germain:', 4824],\n",
              " [':Newcastle_United:', 4752],\n",
              " [':Internazionale:', 4718],\n",
              " [':Celtic:', 4132],\n",
              " [':FC_Porto:', 3984],\n",
              " [':Olympique_Lyonnais:', 3789],\n",
              " [':France:', 3593],\n",
              " [':Leicester_City_FC:', 3547],\n",
              " [':Leeds_United:', 3301],\n",
              " [':Watford_FC:', 3114],\n",
              " [':West_Ham_United:', 2756],\n",
              " [':Sporting_Clube_de_Portug:', 2731],\n",
              " [':Germany:', 2552],\n",
              " [':Wrexham:', 2548],\n",
              " [':Southampton:', 2423],\n",
              " [':Republic_of_Ireland:', 2419],\n",
              " [':Eintracht_Frankfurt:', 2287],\n",
              " [':AS_Roma:', 2276],\n",
              " [':Atletico_Madrid:', 2214],\n",
              " [':Crystal_Palace_FC:', 2132],\n",
              " ['Manchester United', 2075],\n",
              " [':Liverpool_Futbol_Club:', 1961],\n",
              " [':Portsmouth_FC:', 1921],\n",
              " [':Spain:', 1881],\n",
              " [':Napoli:', 1860],\n",
              " [':Aston_Villa:', 1811],\n",
              " [':Argentina:', 1720],\n",
              " ['United States', 1706],\n",
              " [':FC_Schalke_04:', 1685],\n",
              " [':Portugal:', 1640],\n",
              " [':Marine_A:', 1600],\n",
              " [':Sunderland:', 1569],\n",
              " [':Middlesbrough_FC:', 1567],\n",
              " [':FC_Zeljeznicar:', 1513],\n",
              " [':Wolverhampton_Wanderers_:', 1507],\n",
              " [':PSV_Eindhoven:', 1504],\n",
              " [':Brighton_Hove_Albion:', 1469],\n",
              " [':Werder_Bremen:', 1438],\n",
              " [':Cardiff_City_FC:', 1363],\n",
              " [':VfB_Stuttgart:', 1293],\n",
              " ['Atlético Madrid', 1284],\n",
              " [':Toronto_FC:', 1283],\n",
              " [':USA:', 1270],\n",
              " [':Boca_Juniors:', 1258],\n",
              " [':Mexico:', 1226],\n",
              " ['Arsenal', 1191],\n",
              " [':Sweden:', 1181],\n",
              " ['Liverpool', 1152],\n",
              " [':Belgium:', 1143],\n",
              " [':Rangers:', 1137],\n",
              " [':Fulham:', 1055],\n",
              " [':Brazil:', 1040],\n",
              " [':Galatasaray:', 1025],\n",
              " [':River_Plate:', 1022],\n",
              " [':Stade_Rennais:', 1010],\n",
              " [':Olympique_de_Marseille:', 982],\n",
              " [':Cork_City:', 981],\n",
              " [':DC_United:', 972],\n",
              " [':Croatia:', 971],\n",
              " [':Colombia:', 953],\n",
              " [':Atlanta_United_FC:', 937],\n",
              " [':Australia:', 935],\n",
              " [':Scotland:', 925],\n",
              " ['The Netherlands', 910],\n",
              " ['Barcelona', 896],\n",
              " ['Chelsea', 877],\n",
              " [':Stoke_City_FC:', 871],\n",
              " [':Swansea_City:', 869],\n",
              " ['Poland', 827],\n",
              " ['Real Madrid', 821],\n",
              " [':Hertha_BSC:', 805],\n",
              " [':Besiktas:', 792],\n",
              " [':Feyenoord_Rotterdam:', 782],\n",
              " [':Burnley:', 775],\n",
              " [':Italy:', 744],\n",
              " [':Netherlands:', 736],\n",
              " [':Sporting_de_Gijon:', 727],\n",
              " [':Denmark:', 725],\n",
              " [':Morecambe_FC:', 700],\n",
              " [':West_Bromwich_Albion:', 668],\n",
              " ['São Paulo', 658],\n",
              " [':New_York_City:', 652],\n",
              " [':Queens_Park_Rangers:', 647]]"
            ]
          },
          "metadata": {
            "tags": []
          },
          "execution_count": 87
        }
      ]
    },
    {
      "cell_type": "code",
      "metadata": {
        "id": "Hz-bpvUZadPM",
        "colab_type": "code",
        "colab": {}
      },
      "source": [
        ""
      ],
      "execution_count": 0,
      "outputs": []
    }
  ]
}