{
  "nbformat": 4,
  "nbformat_minor": 0,
  "metadata": {
    "colab": {
      "name": "r/soccer flairs",
      "provenance": [],
      "collapsed_sections": []
    },
    "kernelspec": {
      "name": "python3",
      "display_name": "Python 3"
    }
  },
  "cells": [
    {
      "cell_type": "markdown",
      "metadata": {
        "id": "U4QhuXKAqfjb",
        "colab_type": "text"
      },
      "source": [
        "#Import stuff"
      ]
    },
    {
      "cell_type": "code",
      "metadata": {
        "id": "4RgCQFRyNL3m",
        "colab_type": "code",
        "colab": {}
      },
      "source": [
        "pip install praw"
      ],
      "execution_count": 0,
      "outputs": []
    },
    {
      "cell_type": "code",
      "metadata": {
        "id": "DRgbTyXBNUwK",
        "colab_type": "code",
        "colab": {}
      },
      "source": [
        "import praw\n",
        "import pandas as pd\n",
        "import matplotlib.pyplot as plt\n",
        "import numpy as np\n",
        "import statistics"
      ],
      "execution_count": 0,
      "outputs": []
    },
    {
      "cell_type": "code",
      "metadata": {
        "id": "o0SiS4MzNen5",
        "colab_type": "code",
        "colab": {}
      },
      "source": [
        "reddit = praw.Reddit(client_id='zlYDbigTjgjImg',\n",
        "                     client_secret='0hW4WTwGwDwU91iCl_19qsXPtYk',\n",
        "                     user_agent='microsoftwindows_googlecolab:dataexploration:v1.0 (by /u/AB_Awesome)')"
      ],
      "execution_count": 0,
      "outputs": []
    },
    {
      "cell_type": "code",
      "metadata": {
        "id": "_W62id1CNiYN",
        "colab_type": "code",
        "outputId": "1ca77ded-d46a-4ebd-e607-f47d503537f3",
        "colab": {
          "base_uri": "https://localhost:8080/",
          "height": 34
        }
      },
      "source": [
        "print(reddit.read_only)"
      ],
      "execution_count": 0,
      "outputs": [
        {
          "output_type": "stream",
          "text": [
            "True\n"
          ],
          "name": "stdout"
        }
      ]
    },
    {
      "cell_type": "markdown",
      "metadata": {
        "id": "NqwN3yVxqlxv",
        "colab_type": "text"
      },
      "source": [
        "#+ve & -ve test: value_counts, grouping. Past week"
      ]
    },
    {
      "cell_type": "code",
      "metadata": {
        "id": "hbTcobcdNlBu",
        "colab_type": "code",
        "colab": {}
      },
      "source": [
        "submission = reddit.subreddit('soccer').top('week', limit = 2)"
      ],
      "execution_count": 0,
      "outputs": []
    },
    {
      "cell_type": "code",
      "metadata": {
        "id": "mj-a-wWsMZ07",
        "colab_type": "code",
        "colab": {}
      },
      "source": [
        "submission = reddit.subreddit('soccer').top('week', limit = 10)\n",
        "flairlist = []\n",
        "for post in submission: \n",
        "    comments = post.comments\n",
        "    comments.replace_more(limit = 32)\n",
        "    for comment in comments.list(): \n",
        "        #print((comment.body))\n",
        "        if comment.score >10 or comment.score <-5: \n",
        "            flairlist.append([comment.author_flair_text, comment.score])\n",
        "\n",
        "    "
      ],
      "execution_count": 0,
      "outputs": []
    },
    {
      "cell_type": "code",
      "metadata": {
        "id": "r_6o1pXGbMjA",
        "colab_type": "code",
        "colab": {}
      },
      "source": [
        "dfflair1 = (pd.DataFrame(flairlist))\n",
        "dfflair1.columns = ['club', 'score']"
      ],
      "execution_count": 0,
      "outputs": []
    },
    {
      "cell_type": "code",
      "metadata": {
        "id": "fzF_BFwwfZx6",
        "colab_type": "code",
        "outputId": "285345a1-ea83-452f-deef-a0cc3c2ac61a",
        "colab": {
          "base_uri": "https://localhost:8080/",
          "height": 221
        }
      },
      "source": [
        "dfflair1pos = dfflair1.where(dfflair1.score > 0)\n",
        "\n",
        "dfflair1pos.club.value_counts()[dfflair1pos.club.value_counts() > 10]"
      ],
      "execution_count": 0,
      "outputs": [
        {
          "output_type": "execute_result",
          "data": {
            "text/plain": [
              ":Liverpool:             207\n",
              ":Manchester_United:      59\n",
              ":FC_Barcelona:           52\n",
              ":Real_Madrid:            50\n",
              ":Borussia_Dortmund:      27\n",
              ":Tottenham_Hotspur:      23\n",
              ":Bayern_Munich:          19\n",
              ":Chelsea:                17\n",
              ":Arsenal:                16\n",
              ":Olympique_Lyonnais:     16\n",
              ":Sunderland:             13\n",
              "Name: club, dtype: int64"
            ]
          },
          "metadata": {
            "tags": []
          },
          "execution_count": 110
        }
      ]
    },
    {
      "cell_type": "code",
      "metadata": {
        "id": "RN07LmqIj_Mm",
        "colab_type": "code",
        "outputId": "59211dd0-f0c0-4b0e-a792-55d22f0ad689",
        "colab": {
          "base_uri": "https://localhost:8080/",
          "height": 68
        }
      },
      "source": [
        "dfflair1neg = dfflair1.where(dfflair1.score < 0)\n",
        "dfflair1neg.club.value_counts()[dfflair1neg.club.value_counts() > 10]"
      ],
      "execution_count": 0,
      "outputs": [
        {
          "output_type": "execute_result",
          "data": {
            "text/plain": [
              ":Paris_Saint-Germain:    13\n",
              ":Liverpool:              12\n",
              "Name: club, dtype: int64"
            ]
          },
          "metadata": {
            "tags": []
          },
          "execution_count": 111
        }
      ]
    },
    {
      "cell_type": "code",
      "metadata": {
        "id": "mAGE_xDakYKt",
        "colab_type": "code",
        "outputId": "09ff1be6-08ad-417e-8777-30e0d8d159f0",
        "colab": {
          "base_uri": "https://localhost:8080/",
          "height": 669
        }
      },
      "source": [
        "dfflair1.sort_values('score', ascending=True).head(20)"
      ],
      "execution_count": 0,
      "outputs": [
        {
          "output_type": "execute_result",
          "data": {
            "text/html": [
              "<div>\n",
              "<style scoped>\n",
              "    .dataframe tbody tr th:only-of-type {\n",
              "        vertical-align: middle;\n",
              "    }\n",
              "\n",
              "    .dataframe tbody tr th {\n",
              "        vertical-align: top;\n",
              "    }\n",
              "\n",
              "    .dataframe thead th {\n",
              "        text-align: right;\n",
              "    }\n",
              "</style>\n",
              "<table border=\"1\" class=\"dataframe\">\n",
              "  <thead>\n",
              "    <tr style=\"text-align: right;\">\n",
              "      <th></th>\n",
              "      <th>club</th>\n",
              "      <th>score</th>\n",
              "    </tr>\n",
              "  </thead>\n",
              "  <tbody>\n",
              "    <tr>\n",
              "      <th>789</th>\n",
              "      <td>None</td>\n",
              "      <td>-207</td>\n",
              "    </tr>\n",
              "    <tr>\n",
              "      <th>1169</th>\n",
              "      <td>:Real_Madrid:</td>\n",
              "      <td>-130</td>\n",
              "    </tr>\n",
              "    <tr>\n",
              "      <th>817</th>\n",
              "      <td>None</td>\n",
              "      <td>-129</td>\n",
              "    </tr>\n",
              "    <tr>\n",
              "      <th>1109</th>\n",
              "      <td>:Real_Madrid:</td>\n",
              "      <td>-127</td>\n",
              "    </tr>\n",
              "    <tr>\n",
              "      <th>869</th>\n",
              "      <td>None</td>\n",
              "      <td>-111</td>\n",
              "    </tr>\n",
              "    <tr>\n",
              "      <th>936</th>\n",
              "      <td>:Tottenham_Hotspur:</td>\n",
              "      <td>-81</td>\n",
              "    </tr>\n",
              "    <tr>\n",
              "      <th>138</th>\n",
              "      <td>:Denmark:</td>\n",
              "      <td>-72</td>\n",
              "    </tr>\n",
              "    <tr>\n",
              "      <th>919</th>\n",
              "      <td>:Liverpool:</td>\n",
              "      <td>-62</td>\n",
              "    </tr>\n",
              "    <tr>\n",
              "      <th>795</th>\n",
              "      <td>None</td>\n",
              "      <td>-58</td>\n",
              "    </tr>\n",
              "    <tr>\n",
              "      <th>924</th>\n",
              "      <td>None</td>\n",
              "      <td>-53</td>\n",
              "    </tr>\n",
              "    <tr>\n",
              "      <th>113</th>\n",
              "      <td>None</td>\n",
              "      <td>-52</td>\n",
              "    </tr>\n",
              "    <tr>\n",
              "      <th>106</th>\n",
              "      <td>None</td>\n",
              "      <td>-48</td>\n",
              "    </tr>\n",
              "    <tr>\n",
              "      <th>726</th>\n",
              "      <td>:Manchester_United:</td>\n",
              "      <td>-42</td>\n",
              "    </tr>\n",
              "    <tr>\n",
              "      <th>1121</th>\n",
              "      <td>:Paris_Saint-Germain:</td>\n",
              "      <td>-41</td>\n",
              "    </tr>\n",
              "    <tr>\n",
              "      <th>573</th>\n",
              "      <td>None</td>\n",
              "      <td>-40</td>\n",
              "    </tr>\n",
              "    <tr>\n",
              "      <th>923</th>\n",
              "      <td>None</td>\n",
              "      <td>-40</td>\n",
              "    </tr>\n",
              "    <tr>\n",
              "      <th>1195</th>\n",
              "      <td>:Napoli:</td>\n",
              "      <td>-39</td>\n",
              "    </tr>\n",
              "    <tr>\n",
              "      <th>760</th>\n",
              "      <td>:Real_Madrid:</td>\n",
              "      <td>-36</td>\n",
              "    </tr>\n",
              "    <tr>\n",
              "      <th>209</th>\n",
              "      <td>:Denmark:</td>\n",
              "      <td>-36</td>\n",
              "    </tr>\n",
              "    <tr>\n",
              "      <th>959</th>\n",
              "      <td>:UEFA:</td>\n",
              "      <td>-34</td>\n",
              "    </tr>\n",
              "  </tbody>\n",
              "</table>\n",
              "</div>"
            ],
            "text/plain": [
              "                       club  score\n",
              "789                    None   -207\n",
              "1169          :Real_Madrid:   -130\n",
              "817                    None   -129\n",
              "1109          :Real_Madrid:   -127\n",
              "869                    None   -111\n",
              "936     :Tottenham_Hotspur:    -81\n",
              "138               :Denmark:    -72\n",
              "919             :Liverpool:    -62\n",
              "795                    None    -58\n",
              "924                    None    -53\n",
              "113                    None    -52\n",
              "106                    None    -48\n",
              "726     :Manchester_United:    -42\n",
              "1121  :Paris_Saint-Germain:    -41\n",
              "573                    None    -40\n",
              "923                    None    -40\n",
              "1195               :Napoli:    -39\n",
              "760           :Real_Madrid:    -36\n",
              "209               :Denmark:    -36\n",
              "959                  :UEFA:    -34"
            ]
          },
          "metadata": {
            "tags": []
          },
          "execution_count": 119
        }
      ]
    },
    {
      "cell_type": "code",
      "metadata": {
        "id": "M1EcKKNWlrxD",
        "colab_type": "code",
        "outputId": "6e18cc54-9dd1-419f-de1d-30a12bcc7b28",
        "colab": {
          "base_uri": "https://localhost:8080/",
          "height": 700
        }
      },
      "source": [
        "dfflair1pos[dfflair1pos.score > 100].groupby(['club']).sum().sort_values('score', ascending = False).head(20)"
      ],
      "execution_count": 0,
      "outputs": [
        {
          "output_type": "execute_result",
          "data": {
            "text/html": [
              "<div>\n",
              "<style scoped>\n",
              "    .dataframe tbody tr th:only-of-type {\n",
              "        vertical-align: middle;\n",
              "    }\n",
              "\n",
              "    .dataframe tbody tr th {\n",
              "        vertical-align: top;\n",
              "    }\n",
              "\n",
              "    .dataframe thead th {\n",
              "        text-align: right;\n",
              "    }\n",
              "</style>\n",
              "<table border=\"1\" class=\"dataframe\">\n",
              "  <thead>\n",
              "    <tr style=\"text-align: right;\">\n",
              "      <th></th>\n",
              "      <th>score</th>\n",
              "    </tr>\n",
              "    <tr>\n",
              "      <th>club</th>\n",
              "      <th></th>\n",
              "    </tr>\n",
              "  </thead>\n",
              "  <tbody>\n",
              "    <tr>\n",
              "      <th>:Liverpool:</th>\n",
              "      <td>17556.0</td>\n",
              "    </tr>\n",
              "    <tr>\n",
              "      <th>:AC_Milan:</th>\n",
              "      <td>7902.0</td>\n",
              "    </tr>\n",
              "    <tr>\n",
              "      <th>:Manchester_United:</th>\n",
              "      <td>6237.0</td>\n",
              "    </tr>\n",
              "    <tr>\n",
              "      <th>:Hapoel_Ra_anana:</th>\n",
              "      <td>3371.0</td>\n",
              "    </tr>\n",
              "    <tr>\n",
              "      <th>:Chad:</th>\n",
              "      <td>3180.0</td>\n",
              "    </tr>\n",
              "    <tr>\n",
              "      <th>:Real_Madrid:</th>\n",
              "      <td>3105.0</td>\n",
              "    </tr>\n",
              "    <tr>\n",
              "      <th>:FC_Barcelona:</th>\n",
              "      <td>3093.0</td>\n",
              "    </tr>\n",
              "    <tr>\n",
              "      <th>:Borussia_Dortmund:</th>\n",
              "      <td>2706.0</td>\n",
              "    </tr>\n",
              "    <tr>\n",
              "      <th>:Bayern_Munich:</th>\n",
              "      <td>2663.0</td>\n",
              "    </tr>\n",
              "    <tr>\n",
              "      <th>:Chelsea:</th>\n",
              "      <td>2483.0</td>\n",
              "    </tr>\n",
              "    <tr>\n",
              "      <th>:Tottenham_Hotspur:</th>\n",
              "      <td>2218.0</td>\n",
              "    </tr>\n",
              "    <tr>\n",
              "      <th>:Wolverhampton_Wanderers_:</th>\n",
              "      <td>2093.0</td>\n",
              "    </tr>\n",
              "    <tr>\n",
              "      <th>:Rayo_Vallecano:</th>\n",
              "      <td>1803.0</td>\n",
              "    </tr>\n",
              "    <tr>\n",
              "      <th>:South_Korea:</th>\n",
              "      <td>1434.0</td>\n",
              "    </tr>\n",
              "    <tr>\n",
              "      <th>:Manchester_City:</th>\n",
              "      <td>1159.0</td>\n",
              "    </tr>\n",
              "    <tr>\n",
              "      <th>:Olympique_Lyonnais:</th>\n",
              "      <td>1072.0</td>\n",
              "    </tr>\n",
              "    <tr>\n",
              "      <th>:Orlando_City:</th>\n",
              "      <td>933.0</td>\n",
              "    </tr>\n",
              "    <tr>\n",
              "      <th>:IK_Sirius:</th>\n",
              "      <td>925.0</td>\n",
              "    </tr>\n",
              "    <tr>\n",
              "      <th>:Lazio:</th>\n",
              "      <td>912.0</td>\n",
              "    </tr>\n",
              "    <tr>\n",
              "      <th>:Norway:</th>\n",
              "      <td>910.0</td>\n",
              "    </tr>\n",
              "  </tbody>\n",
              "</table>\n",
              "</div>"
            ],
            "text/plain": [
              "                              score\n",
              "club                               \n",
              ":Liverpool:                 17556.0\n",
              ":AC_Milan:                   7902.0\n",
              ":Manchester_United:          6237.0\n",
              ":Hapoel_Ra_anana:            3371.0\n",
              ":Chad:                       3180.0\n",
              ":Real_Madrid:                3105.0\n",
              ":FC_Barcelona:               3093.0\n",
              ":Borussia_Dortmund:          2706.0\n",
              ":Bayern_Munich:              2663.0\n",
              ":Chelsea:                    2483.0\n",
              ":Tottenham_Hotspur:          2218.0\n",
              ":Wolverhampton_Wanderers_:   2093.0\n",
              ":Rayo_Vallecano:             1803.0\n",
              ":South_Korea:                1434.0\n",
              ":Manchester_City:            1159.0\n",
              ":Olympique_Lyonnais:         1072.0\n",
              ":Orlando_City:                933.0\n",
              ":IK_Sirius:                   925.0\n",
              ":Lazio:                       912.0\n",
              ":Norway:                      910.0"
            ]
          },
          "metadata": {
            "tags": []
          },
          "execution_count": 132
        }
      ]
    },
    {
      "cell_type": "markdown",
      "metadata": {
        "id": "FfqLdXIwrTIh",
        "colab_type": "text"
      },
      "source": [
        "#Exploring scores distribution. Past month"
      ]
    },
    {
      "cell_type": "code",
      "metadata": {
        "id": "acv1H5CvrzpF",
        "colab_type": "code",
        "colab": {}
      },
      "source": [
        "submission2 = reddit.subreddit('soccer').top('month', limit = 50000)\n",
        "flairlist2 = []\n",
        "listofscores = []\n",
        "for post in submission2: \n",
        "    listofscores.append(post.score)\n",
        "    #if post.score > 1000 and post.score < 6000: \n",
        "     #   comments = post.comments\n",
        "      #  comments.replace_more(limit = 32)\n",
        "       # for comment in comments.list(): \n",
        "        #    #print((comment.body))\n",
        "         #   if comment.score >10 or comment.score <-5: \n",
        "          #      flairlist2.append([post.id, comment.author_flair_text, comment.score])\n",
        "\n",
        "    "
      ],
      "execution_count": 0,
      "outputs": []
    },
    {
      "cell_type": "code",
      "metadata": {
        "id": "HA-94ha3xZGa",
        "colab_type": "code",
        "outputId": "b8c0ee37-7b88-4ea5-92c9-f459c9bb0e00",
        "colab": {
          "base_uri": "https://localhost:8080/",
          "height": 265
        }
      },
      "source": [
        "plt.hist(listofscores, bins = 100)\n",
        "#plt.plot([np.percentile(listofscores, x) for x in range(0, 100)][::-1])\n",
        "plt.show()"
      ],
      "execution_count": 0,
      "outputs": [
        {
          "output_type": "display_data",
          "data": {
            "image/png": "[encoded data removed]",
            "text/plain": [
              "<Figure size 432x288 with 1 Axes>"
            ]
          },
          "metadata": {
            "tags": []
          }
        }
      ]
    },
    {
      "cell_type": "code",
      "metadata": {
        "id": "Pfzh9OqLzQWw",
        "colab_type": "code",
        "outputId": "07091995-6049-49dc-e4c6-0d940d38267c",
        "colab": {
          "base_uri": "https://localhost:8080/",
          "height": 282
        }
      },
      "source": [
        "plt.plot([np.percentile(listofscores, x) for x in range(0, 100)][::-1])\n",
        "plt.show"
      ],
      "execution_count": 0,
      "outputs": [
        {
          "output_type": "execute_result",
          "data": {
            "text/plain": [
              "<function matplotlib.pyplot.show>"
            ]
          },
          "metadata": {
            "tags": []
          },
          "execution_count": 198
        },
        {
          "output_type": "display_data",
          "data": {
            "image/png": "[encoded data removed]",
            "text/plain": [
              "<Figure size 432x288 with 1 Axes>"
            ]
          },
          "metadata": {
            "tags": []
          }
        }
      ]
    },
    {
      "cell_type": "markdown",
      "metadata": {
        "id": "8xEVNJ5Tr8kz",
        "colab_type": "text"
      },
      "source": [
        "#+ve and -ve test 2. Past month"
      ]
    },
    {
      "cell_type": "code",
      "metadata": {
        "id": "jtb-KASGVW7l",
        "colab_type": "code",
        "colab": {}
      },
      "source": [
        "submission2 = reddit.subreddit('soccer').top('week', limit = 500)\n",
        "flairlist2 = []\n",
        "listofscores = []\n",
        "for post in submission2: \n",
        "    if post.score > 1000 and post.score < 6000: \n",
        "        comments = post.comments\n",
        "        comments.replace_more(limit = 32)\n",
        "        for comment in comments.list(): \n",
        "            #print((comment.body))\n",
        "            if comment.score >10 or comment.score <-5: \n",
        "                flairlist2.append([post.id, comment.author_flair_text, comment.score])\n",
        "\n",
        "    "
      ],
      "execution_count": 0,
      "outputs": []
    },
    {
      "cell_type": "code",
      "metadata": {
        "id": "Y6QuzlA0qlsG",
        "colab_type": "code",
        "colab": {}
      },
      "source": [
        "dfflair2 = (pd.DataFrame(flairlist2))\n",
        "dfflair2.columns = ['post', 'club', 'score']"
      ],
      "execution_count": 0,
      "outputs": []
    },
    {
      "cell_type": "code",
      "metadata": {
        "id": "PSyrSwBtwSZi",
        "colab_type": "code",
        "outputId": "26908605-bedd-4796-fe5d-03edf1bac92b",
        "colab": {
          "base_uri": "https://localhost:8080/",
          "height": 748
        }
      },
      "source": [
        "dfflair2pos = dfflair2.where(dfflair2.score > 0)\n",
        "\n",
        "dfflair2pos.club.value_counts()[dfflair2pos.club.value_counts() > 20]"
      ],
      "execution_count": 0,
      "outputs": [
        {
          "output_type": "execute_result",
          "data": {
            "text/plain": [
              ":Liverpool:                   1208\n",
              ":Manchester_United:            878\n",
              ":Arsenal:                      481\n",
              ":Chelsea:                      415\n",
              ":Tottenham_Hotspur:            321\n",
              ":FC_Barcelona:                 265\n",
              ":Real_Madrid:                  170\n",
              ":Borussia_Dortmund:            139\n",
              ":Manchester_City:              133\n",
              ":Leicester_City_FC:            110\n",
              ":Everton:                       92\n",
              ":Newcastle_United:              85\n",
              ":Bayern_Munich:                 67\n",
              ":England:                       57\n",
              ":Ajax:                          46\n",
              ":Paris_Saint-Germain:           40\n",
              ":AC_Milan:                      39\n",
              ":1899_Hoffenheim:               38\n",
              "                                36\n",
              "Liverpool                       34\n",
              ":Internazionale:                34\n",
              ":Republic_of_Ireland:           31\n",
              ":Brighton_Hove_Albion:          29\n",
              "Manchester United               28\n",
              ":Crystal_Palace_FC:             28\n",
              ":Wolverhampton_Wanderers_:      28\n",
              ":Watford_FC:                    28\n",
              ":Borussia_Monchengladbach:      27\n",
              ":West_Ham_United:               27\n",
              ":Argentina:                     26\n",
              ":France:                        25\n",
              ":FC_Schalke_04:                 25\n",
              ":Juventus:                      25\n",
              "Chelsea                         24\n",
              ":Leeds_United:                  24\n",
              ":Aston_Villa:                   23\n",
              "Bayern München                  22\n",
              ":Athletic_Bilbao:               22\n",
              ":Germany:                       22\n",
              ":English_Premier_League:        21\n",
              ":Celtic:                        21\n",
              ":Spain:                         21\n",
              "Name: club, dtype: int64"
            ]
          },
          "metadata": {
            "tags": []
          },
          "execution_count": 146
        }
      ]
    },
    {
      "cell_type": "markdown",
      "metadata": {
        "id": "6l2AFh2LgAQ_",
        "colab_type": "text"
      },
      "source": [
        "#SQL"
      ]
    },
    {
      "cell_type": "code",
      "metadata": {
        "id": "8dnJI77hf4GK",
        "colab_type": "code",
        "colab": {}
      },
      "source": [
        "import sqlite3"
      ],
      "execution_count": 0,
      "outputs": []
    },
    {
      "cell_type": "code",
      "metadata": {
        "id": "h9NPyphSgOy0",
        "colab_type": "code",
        "colab": {}
      },
      "source": [
        "conn = sqlite3.connect('AA_db.sqlite')\n",
        "cur = conn.cursor()\n",
        "cur.execute('CREATE TABLE redditflairs (postid VARCHAR, postscore INTEGER, commentid VARCHAR, commentscore INTEGER, userflair VARCHAR)')\n",
        "conn.commit()\n",
        "\n",
        "conn.close()"
      ],
      "execution_count": 0,
      "outputs": []
    },
    {
      "cell_type": "markdown",
      "metadata": {
        "id": "ga9u7VYQruKs",
        "colab_type": "text"
      },
      "source": [
        "#Data mining"
      ]
    },
    {
      "cell_type": "code",
      "metadata": {
        "id": "aIfaD2BDQ4Y_",
        "colab_type": "code",
        "colab": {}
      },
      "source": [
        "submission3 = reddit.subreddit('soccer').top('day', limit = 15)\n",
        "biglist = []\n",
        "\n",
        "for post in submission3: \n",
        "    comments = post.comments\n",
        "    comments.replace_more(limit = 32)\n",
        "    for comment in comments.list():\n",
        "        if comment.score >10 or comment.score <-5: \n",
        "            biglist.append([post.id, post.score, comment.id, comment.score, comment.author_flair_text])\n",
        "\n",
        "    "
      ],
      "execution_count": 0,
      "outputs": []
    },
    {
      "cell_type": "code",
      "metadata": {
        "id": "NOwRJB8xJT7T",
        "colab_type": "code",
        "colab": {}
      },
      "source": [
        "dfflairs = pd.DataFrame(biglist)"
      ],
      "execution_count": 0,
      "outputs": []
    },
    {
      "cell_type": "code",
      "metadata": {
        "id": "GOGWXPqsM13Y",
        "colab_type": "code",
        "colab": {}
      },
      "source": [
        "conn = sqlite3.connect(':memory:')\n",
        "cur = conn.cursor()"
      ],
      "execution_count": 0,
      "outputs": []
    },
    {
      "cell_type": "code",
      "metadata": {
        "id": "LUMdZOSKJe67",
        "colab_type": "code",
        "colab": {}
      },
      "source": [
        "dfflairs.to_sql('flairs', conn, if_exists='replace', index = False)"
      ],
      "execution_count": 0,
      "outputs": []
    },
    {
      "cell_type": "code",
      "metadata": {
        "id": "u_a7FTfFKzz1",
        "colab_type": "code",
        "colab": {}
      },
      "source": [
        "cur.execute('''\n",
        "SELECT * FROM flairs;\n",
        "\n",
        "''')\n",
        "conn.commit()"
      ],
      "execution_count": 0,
      "outputs": []
    },
    {
      "cell_type": "code",
      "metadata": {
        "id": "191D1SCONipl",
        "colab_type": "code",
        "colab": {}
      },
      "source": [
        ""
      ],
      "execution_count": 0,
      "outputs": []
    }
  ]
}